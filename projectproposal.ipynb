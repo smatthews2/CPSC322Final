{
 "cells": [
  {
   "cell_type": "markdown",
   "metadata": {},
   "source": [
    "# CPSC322 Final Project Proposal -- UFO Sightings Dataset\n",
    "\n",
    "## 1. Name of Team Members and Project \n",
    "### Sebastian Matthews and Ethan France\n",
    "## 2. Dataset Description\n",
    "### 1. Source, Format, and Description\n",
    "The dataset that we will be using contains over 80,000 UFO sighting reports across the world, providing a variety of descriptions(e.g. datetime, city, state, country, shape, duration in seconds and hours/min, comments regarding the report, date posted, and longitude and latitude).  \n",
    "This dataset is sourced from [Kaggle](https://www.kaggle.com/datasets/NUFORC/ufo-sightings) and are in a CSV format.\n",
    "The second dataset will be information regarding weather conditions during the day of the sighting. We will be utilizing data from [Wunderground's Historical Weather Reports](https://www.wunderground.com/history) that we will obtain from a Selenium-based web scraping bot, which we will also store in a CSV file format and later merge into our primary dataset.\n",
    "### 2. Include a brief description of the attributes and what you will use as class information (i.e., what attribute(s) you will try to predict).\n",
    "The attributes that we will utilize as class information will be...\n",
    "- The date and time of the sighting or \"datetime\".\n",
    "- The city and country of the sighting, labeled as \"city\" or \"country\".\n",
    "- The dew point average of a given day, labeled \"dew-avg\".\n",
    "- The atmospheric pressure of a given day, labeled as \"pressure-avg\".\n",
    "- The temperature average of a given day, labeled as \"temp-avg\".\n",
    "- The maximum wind speed of a given day, labeled as \"wind-max\".\n",
    "These will help in predicting whether or not a UFO sighting will occur for a given day based on weather features and location in our binary classification scenario.\n",
    "\n",
    "## 3. Implementation/Technical Merit\n",
    "### 1. Anticipated Challenges in Pre-Processing and/or Classification\n",
    "- The amount(80,000) of datapoints we have for UFO sightings is a lot! We will have to constrain our dataset to include a fraction of that amount(1/8th) or else data gathering will take too long. \n",
    "- Most days of a given year will not have a UFO sighting reported, so the predictive scores for our project will be low and means that we have to alter our decision criteria.\n",
    "- Weather data may be absent from a number of locations depending on their proximity to a given weather station or airport, so we will have to substitute unknown values with column averages.\n",
    "- Assembling a dataset from web scraping might be annoying regardless of any prior experience.\n",
    "### 2. If the number of attributes is large, how will you explore feature selection techniques to pare down the attributes?\n",
    "The Random Forest classifier method for our dataset will select a random attribute from which to split upon to create trees that will end up in a yes/no state. The trees that perform the best will point to the attributes that perform well in regard to classifying a day on the possibility of a UFO sighting.\n",
    "## 4. Potential impact of the results\n",
    "### 1. Why are these results useful?\n",
    "Our results will determine the key factors that contribute to the likelihood of a UFO sighting, particularly in weather conditions and/or day of the week. This will turn the idea of UFO sightings as a more explainable phenomenon within the surrounding conditions.\n",
    "### 2. Who are stakeholders (users/groups that are impacted by the outcome of the project) interested in these results?\n",
    "The stakeholders for this project would be...\n",
    "1. The people making the project! We are curious to see how UFO sightings and weather will correlate.\n",
    "2. Anyone who shares an interest in UFO sightings, since statistical trends will demonstrate commonalities between different instances of witnessing \"extraterrestrial activities\".\n",
    "3. Weather analysts who also share an interest in UFO sightings, as the possibility of weather conditions affecting the chance of a UFO sighting being reported is absolutely non-zero."
   ]
  }
 ],
 "metadata": {
  "kernelspec": {
   "display_name": "Python 3 (ipykernel)",
   "language": "python",
   "name": "python3"
  },
  "language_info": {
   "codemirror_mode": {
    "name": "ipython",
    "version": 3
   },
   "file_extension": ".py",
   "mimetype": "text/x-python",
   "name": "python",
   "nbconvert_exporter": "python",
   "pygments_lexer": "ipython3",
   "version": "3.11.9"
  }
 },
 "nbformat": 4,
 "nbformat_minor": 4
}
